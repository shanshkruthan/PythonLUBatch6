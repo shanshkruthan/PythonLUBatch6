{
  "nbformat": 4,
  "nbformat_minor": 0,
  "metadata": {
    "colab": {
      "name": "Untitled1.ipynb",
      "provenance": []
    },
    "kernelspec": {
      "name": "python3",
      "display_name": "Python 3"
    }
  },
  "cells": [
    {
      "cell_type": "code",
      "metadata": {
        "id": "Wuu_S14aLgU_",
        "colab_type": "code",
        "colab": {
          "base_uri": "https://localhost:8080/",
          "height": 54
        },
        "outputId": "5d12e349-078a-4294-e130-dc0626822581"
      },
      "source": [
        "#Code to Find the sum of n number using while loop\n",
        "a=eval(input(\"enter the number to find the sum of n number\"))\n",
        "sum=0\n",
        "while a!=0:\n",
        "  sum+=a\n",
        "  a-=1\n",
        "print(\"sum of n number is\",sum)"
      ],
      "execution_count": 2,
      "outputs": [
        {
          "output_type": "stream",
          "text": [
            "enter the number to find the sum of n number10\n",
            "sum of n number is 55\n"
          ],
          "name": "stdout"
        }
      ]
    },
    {
      "cell_type": "code",
      "metadata": {
        "id": "JUZMyPhML-QK",
        "colab_type": "code",
        "colab": {
          "base_uri": "https://localhost:8080/",
          "height": 72
        },
        "outputId": "8d119a71-60f0-46cf-d683-f5fa00e56a82"
      },
      "source": [
        "#To find prime or not\n",
        "import math as m\n",
        "no=eval(input(\"enter the number\"))\n",
        "prime=True\n",
        "ran=m.sqrt(no)\n",
        "ran=int(ran)\n",
        "for i in range(2,ran):\n",
        "  if no%i==0:\n",
        "    prime=False\n",
        "    break\n",
        "if(prime==True):\n",
        "  print(\"It is a prime number\")\n",
        "else:\n",
        "  print(\"It is not a prime number\")"
      ],
      "execution_count": 21,
      "outputs": [
        {
          "output_type": "stream",
          "text": [
            "enter the number97\n",
            "9\n",
            "It is a prime number\n"
          ],
          "name": "stdout"
        }
      ]
    },
    {
      "cell_type": "code",
      "metadata": {
        "id": "IW5r8sB6Lo6a",
        "colab_type": "code",
        "colab": {}
      },
      "source": [
        ""
      ],
      "execution_count": null,
      "outputs": []
    }
  ]
}