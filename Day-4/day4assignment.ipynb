{
  "nbformat": 4,
  "nbformat_minor": 0,
  "metadata": {
    "colab": {
      "name": "Untitled0.ipynb",
      "provenance": [],
      "collapsed_sections": []
    },
    "kernelspec": {
      "name": "python3",
      "display_name": "Python 3"
    }
  },
  "cells": [
    {
      "cell_type": "code",
      "metadata": {
        "id": "eNKbS9M83FAu",
        "colab_type": "code",
        "colab": {
          "base_uri": "https://localhost:8080/",
          "height": 34
        },
        "outputId": "afd2eed7-b398-4fec-aec9-4f4074510f47"
      },
      "source": [
        "#code to find the substring of the string\n",
        "str1=\"what we think we become; we are python programmer\"\n",
        "str2=\"b\"\n",
        "g=str1.find(str2)\n",
        "print(g)\n",
        "while g!=-1:\n",
        "  g=str1.find(str2,g+1,len(str1))\n",
        "  if(g!=-1):\n",
        "    print(g)\n"
      ],
      "execution_count": 159,
      "outputs": [
        {
          "output_type": "stream",
          "text": [
            "17\n"
          ],
          "name": "stdout"
        }
      ]
    },
    {
      "cell_type": "code",
      "metadata": {
        "id": "LzQoMT4D3fi_",
        "colab_type": "code",
        "colab": {
          "base_uri": "https://localhost:8080/",
          "height": 84
        },
        "outputId": "d7ea4ead-cc7a-4049-dc2e-67df37b633d8"
      },
      "source": [
        "a=\"abcd\"\n",
        "print(a.isupper())\n",
        "print(a.islower())\n",
        "b=\"ABCD\"\n",
        "print(b.isupper())\n",
        "print(b.islower())"
      ],
      "execution_count": 162,
      "outputs": [
        {
          "output_type": "stream",
          "text": [
            "False\n",
            "True\n",
            "True\n",
            "False\n"
          ],
          "name": "stdout"
        }
      ]
    },
    {
      "cell_type": "code",
      "metadata": {
        "id": "8NySkOzWYK5Y",
        "colab_type": "code",
        "colab": {}
      },
      "source": [
        ""
      ],
      "execution_count": null,
      "outputs": []
    }
  ]
}