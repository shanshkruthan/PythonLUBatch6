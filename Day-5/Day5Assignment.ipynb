{
 "cells": [
  {
   "cell_type": "code",
   "execution_count": 38,
   "metadata": {},
   "outputs": [
    {
     "name": "stdout",
     "output_type": "stream",
     "text": [
      "[1, 1, 1, 2, 2, 3, 4, 4, 10, 56, 56, 0, 0, 0, 0, 0]\n"
     ]
    }
   ],
   "source": [
    "#Assignment 1\n",
    "list1=[0,1,2,10,4,1,0,56,2,0,1,3,0,56,0,4]\n",
    "list1.sort(reverse=False)\n",
    "ind=list1.count(0)\n",
    "list2=list1[ind:]\n",
    "list2.extend((0,)*ind)\n",
    "print(list2)"
   ]
  },
  {
   "cell_type": "code",
   "execution_count": 82,
   "metadata": {},
   "outputs": [
    {
     "name": "stdout",
     "output_type": "stream",
     "text": [
      "0 [1, 2, 3, 4, 5, 6, 7, 7, 8, 9, 10, 11]\n"
     ]
    }
   ],
   "source": [
    "#assignment 2\n",
    "list1=[1,2,3,4,5,6,7]\n",
    "list2=[7,8,9,10,11]\n",
    "com=[]\n",
    "pos1=0\n",
    "pos2=0\n",
    "f=0\n",
    "a=len(list1)\n",
    "b=len(list2)\n",
    "t=a+b\n",
    "for i in range(t):\n",
    "    if(list1[pos1]>list2[pos2]):\n",
    "        com.append(list2[pos2])\n",
    "        pos2+=1\n",
    "        if(pos2==b):\n",
    "            f=1\n",
    "            break\n",
    "    else:\n",
    "        com.append(list1[pos1])\n",
    "        pos1+=1\n",
    "        if(pos1==a):\n",
    "            break\n",
    "if(f==1):\n",
    "    t=list1[pos1:]\n",
    "    com.extend(t)\n",
    "else:\n",
    "    t=list2[pos2:]\n",
    "    com.extend(t)\n",
    "print(f,com)"
   ]
  },
  {
   "cell_type": "code",
   "execution_count": null,
   "metadata": {},
   "outputs": [],
   "source": []
  }
 ],
 "metadata": {
  "kernelspec": {
   "display_name": "Python 3",
   "language": "python",
   "name": "python3"
  },
  "language_info": {
   "codemirror_mode": {
    "name": "ipython",
    "version": 3
   },
   "file_extension": ".py",
   "mimetype": "text/x-python",
   "name": "python",
   "nbconvert_exporter": "python",
   "pygments_lexer": "ipython3",
   "version": "3.7.6"
  }
 },
 "nbformat": 4,
 "nbformat_minor": 4
}
